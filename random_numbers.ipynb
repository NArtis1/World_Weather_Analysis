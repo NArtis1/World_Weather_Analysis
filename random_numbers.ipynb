{
 "cells": [
  {
   "cell_type": "code",
   "execution_count": 1,
   "id": "2b791d84",
   "metadata": {},
   "outputs": [],
   "source": [
    "# Import the random module\n",
    "import random"
   ]
  },
  {
   "cell_type": "code",
   "execution_count": 2,
   "id": "de9c738a",
   "metadata": {},
   "outputs": [
    {
     "data": {
      "text/plain": [
       "12"
      ]
     },
     "execution_count": 2,
     "metadata": {},
     "output_type": "execute_result"
    }
   ],
   "source": [
    "random.randint(-90,90)"
   ]
  },
  {
   "cell_type": "code",
   "execution_count": 3,
   "id": "b3ac4999",
   "metadata": {},
   "outputs": [
    {
     "data": {
      "text/plain": [
       "0.3067736761829817"
      ]
     },
     "execution_count": 3,
     "metadata": {},
     "output_type": "execute_result"
    }
   ],
   "source": [
    "random.random()"
   ]
  },
  {
   "cell_type": "code",
   "execution_count": 4,
   "id": "5b601d4d",
   "metadata": {},
   "outputs": [
    {
     "data": {
      "text/plain": [
       "36.146388925165354"
      ]
     },
     "execution_count": 4,
     "metadata": {},
     "output_type": "execute_result"
    }
   ],
   "source": [
    "random_number = random.randint(-90,89) + random.random()\n",
    "random_number"
   ]
  },
  {
   "cell_type": "code",
   "execution_count": 5,
   "id": "b40f040b",
   "metadata": {},
   "outputs": [
    {
     "data": {
      "text/plain": [
       "[74.81272636473226,\n",
       " 34.25126125998818,\n",
       " 64.86398385609024,\n",
       " 62.53123145739475,\n",
       " -46.7141014317981,\n",
       " 27.369522308638246,\n",
       " 40.27300325252834,\n",
       " -86.07000230877094,\n",
       " 89.36487473749045,\n",
       " -74.1364430918857]"
      ]
     },
     "execution_count": 5,
     "metadata": {},
     "output_type": "execute_result"
    }
   ],
   "source": [
    "x = 1\n",
    "latitudes = []\n",
    "while x < 11:\n",
    "    random_lat = random.randint(-90, 89) + random.random()\n",
    "    latitudes.append(random_lat)\n",
    "    x += 1\n",
    "latitudes"
   ]
  },
  {
   "cell_type": "code",
   "execution_count": 6,
   "id": "c0cd75c2",
   "metadata": {},
   "outputs": [
    {
     "data": {
      "text/plain": [
       "-18"
      ]
     },
     "execution_count": 6,
     "metadata": {},
     "output_type": "execute_result"
    }
   ],
   "source": [
    "random.randrange(-90,90, step=3)"
   ]
  },
  {
   "cell_type": "code",
   "execution_count": 7,
   "id": "0ebcc0f7",
   "metadata": {},
   "outputs": [
    {
     "data": {
      "text/plain": [
       "49.911684144971446"
      ]
     },
     "execution_count": 7,
     "metadata": {},
     "output_type": "execute_result"
    }
   ],
   "source": [
    "random.uniform(-90,90)"
   ]
  },
  {
   "cell_type": "code",
   "execution_count": 8,
   "id": "4320a882",
   "metadata": {},
   "outputs": [],
   "source": [
    "# Import the NumPy module\n",
    "import numpy as np"
   ]
  },
  {
   "cell_type": "code",
   "execution_count": 9,
   "id": "8aae1383",
   "metadata": {},
   "outputs": [
    {
     "data": {
      "text/plain": [
       "47.0729086867519"
      ]
     },
     "execution_count": 9,
     "metadata": {},
     "output_type": "execute_result"
    }
   ],
   "source": [
    "np.random.uniform(-90.000,90.000)"
   ]
  },
  {
   "cell_type": "code",
   "execution_count": 10,
   "id": "2cadf598",
   "metadata": {},
   "outputs": [
    {
     "data": {
      "text/plain": [
       "array([ -0.86369042,  -9.08950705,  34.47523633, -27.10343082,\n",
       "       -77.49776532, -78.1338395 , -74.7562701 ,  88.22938105,\n",
       "       -15.26438403,  45.2973234 ,  -1.43853482, -73.11774751,\n",
       "        45.83957471, -45.87126983, -30.72636849,  66.768795  ,\n",
       "       -42.91346478, -47.23595254, -41.18789815, -66.26329765,\n",
       "        34.73348992,  29.75345003,  80.01282259, -12.85808159,\n",
       "        65.09557292, -74.18647146,   4.90269663, -84.22744189,\n",
       "       -31.71970908,  83.97120684, -61.55367821,  39.64215426,\n",
       "       -45.72051012,  19.37183555, -73.63321268, -31.8148326 ,\n",
       "       -27.78507538, -35.1213406 ,  23.36304222,  34.84766257,\n",
       "        51.44514731,   1.23103628, -66.07266901, -58.01393172,\n",
       "       -41.85852629, -30.50292161,  38.37766684,  43.03510612,\n",
       "        74.2754949 , -35.64461187])"
      ]
     },
     "execution_count": 10,
     "metadata": {},
     "output_type": "execute_result"
    }
   ],
   "source": [
    "np.random.uniform(-90,90,size=50)"
   ]
  },
  {
   "cell_type": "code",
   "execution_count": 11,
   "id": "e2c121d5",
   "metadata": {},
   "outputs": [],
   "source": [
    "# Import timeit\n",
    "import timeit"
   ]
  },
  {
   "cell_type": "code",
   "execution_count": 12,
   "id": "610b1417",
   "metadata": {},
   "outputs": [
    {
     "name": "stdout",
     "output_type": "stream",
     "text": [
      "15.9 µs ± 798 ns per loop (mean ± std. dev. of 7 runs, 100000 loops each)\n"
     ]
    }
   ],
   "source": [
    "%timeit np.random.uniform(-90.000, 90.000, size=1500)"
   ]
  },
  {
   "cell_type": "code",
   "execution_count": 13,
   "id": "92efecda",
   "metadata": {},
   "outputs": [
    {
     "name": "stdout",
     "output_type": "stream",
     "text": [
      "1.49 ms ± 100 µs per loop (mean ± std. dev. of 7 runs, 1000 loops each)\n"
     ]
    }
   ],
   "source": [
    "def latitudes(size):\n",
    "    latitudes = []\n",
    "    x = 0\n",
    "    while x < (size):\n",
    "        random_lat = random.randint(-90, 90) + random.random()\n",
    "        latitudes.append(random_lat)\n",
    "        x += 1\n",
    "    return latitudes\n",
    "# Call the function with 1500.\n",
    "%timeit latitudes(1500)"
   ]
  }
 ],
 "metadata": {
  "kernelspec": {
   "display_name": "PythonData",
   "language": "python",
   "name": "pythondata"
  },
  "language_info": {
   "codemirror_mode": {
    "name": "ipython",
    "version": 3
   },
   "file_extension": ".py",
   "mimetype": "text/x-python",
   "name": "python",
   "nbconvert_exporter": "python",
   "pygments_lexer": "ipython3",
   "version": "3.8.8"
  }
 },
 "nbformat": 4,
 "nbformat_minor": 5
}
